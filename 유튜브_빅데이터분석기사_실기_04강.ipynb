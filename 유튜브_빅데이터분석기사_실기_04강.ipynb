{
  "nbformat": 4,
  "nbformat_minor": 0,
  "metadata": {
    "colab": {
      "provenance": [],
      "authorship_tag": "ABX9TyNjZ2gL6e3r+6iayM5Bo3jU",
      "include_colab_link": true
    },
    "kernelspec": {
      "name": "python3",
      "display_name": "Python 3"
    },
    "language_info": {
      "name": "python"
    }
  },
  "cells": [
    {
      "cell_type": "markdown",
      "metadata": {
        "id": "view-in-github",
        "colab_type": "text"
      },
      "source": [
        "<a href=\"https://colab.research.google.com/github/kkang-cs/cloudtype-streamlit-example/blob/main/%EC%9C%A0%ED%8A%9C%EB%B8%8C_%EB%B9%85%EB%8D%B0%EC%9D%B4%ED%84%B0%EB%B6%84%EC%84%9D%EA%B8%B0%EC%82%AC_%EC%8B%A4%EA%B8%B0_04%EA%B0%95.ipynb\" target=\"_parent\"><img src=\"https://colab.research.google.com/assets/colab-badge.svg\" alt=\"Open In Colab\"/></a>"
      ]
    },
    {
      "cell_type": "code",
      "execution_count": null,
      "metadata": {
        "colab": {
          "base_uri": "https://localhost:8080/"
        },
        "id": "XKmCrXzumSI0",
        "outputId": "a32a7c9c-a500-444a-a5d5-5be5e3aae780"
      },
      "outputs": [
        {
          "output_type": "stream",
          "name": "stdout",
          "text": [
            "    total  speeding  alcohol  not_distracted  no_previous  ins_premium  \\\n",
            "0    18.8     7.332    5.640          18.048       15.040       784.55   \n",
            "1    18.1     7.421    4.525          16.290       17.014      1053.48   \n",
            "2    18.6     6.510    5.208          15.624       17.856       899.47   \n",
            "3    22.4     4.032    5.824          21.056       21.280       827.34   \n",
            "4    12.0     4.200    3.360          10.920       10.680       878.41   \n",
            "5    13.6     5.032    3.808          10.744       12.920       835.50   \n",
            "6    10.8     4.968    3.888           9.396        8.856      1068.73   \n",
            "7    16.2     6.156    4.860          14.094       16.038      1137.87   \n",
            "8     5.9     2.006    1.593           5.900        5.900      1273.89   \n",
            "9    17.9     3.759    5.191          16.468       16.826      1160.13   \n",
            "10   15.6     2.964    3.900          14.820       14.508       913.15   \n",
            "\n",
            "    ins_losses abbrev  \n",
            "0       145.08     AL  \n",
            "1       133.93     AK  \n",
            "2       110.35     AZ  \n",
            "3       142.39     AR  \n",
            "4       165.63     CA  \n",
            "5       139.91     CO  \n",
            "6       167.02     CT  \n",
            "7       151.48     DE  \n",
            "8       136.05     DC  \n",
            "9       144.18     FL  \n",
            "10      142.80     GA  \n"
          ]
        }
      ],
      "source": [
        "import seaborn as sns\n",
        "import pandas as pd\n",
        "sns.get_dataset_names()\n",
        "df = sns.load_dataset('car_crashes')\n",
        "print(df.head(11))"
      ]
    },
    {
      "cell_type": "code",
      "source": [
        "data = df.sort_values(by=df.columns[2], ascending=False)\n",
        "print (data.head(11))\n",
        "ten = data.iloc[9,2]\n",
        "data.iloc[:10,2]=ten\n",
        "print (data.head(11))\n",
        "\n",
        "result = data[(data['speeding']>7)]\n",
        "# print (result)\n",
        "print ('최종결과물: ', result['alcohol'].mean())"
      ],
      "metadata": {
        "colab": {
          "base_uri": "https://localhost:8080/"
        },
        "id": "rmhXMxSKp3zF",
        "outputId": "7c42add9-51b3-4a41-ef3d-27f2f29c35fc"
      },
      "execution_count": null,
      "outputs": [
        {
          "output_type": "stream",
          "name": "stdout",
          "text": [
            "    total  speeding  alcohol  not_distracted  no_previous  ins_premium  \\\n",
            "34   23.9     5.497   10.038          23.661       20.554       688.75   \n",
            "40   23.9     9.082    9.799          22.944       19.359       858.97   \n",
            "26   21.4     8.346    9.416          17.976       18.190       816.21   \n",
            "43   19.4     7.760    7.372          17.654       16.878      1004.75   \n",
            "11   17.5     9.450    7.175          14.350       15.225       861.18   \n",
            "18   20.5     7.175    6.765          14.965       20.090      1281.55   \n",
            "48   23.8     8.092    6.664          23.086       20.706       992.61   \n",
            "41   19.4     6.014    6.402          19.012       16.684       669.31   \n",
            "3    22.4     4.032    5.824          21.056       21.280       827.34   \n",
            "36   19.9     6.368    5.771          18.308       18.706       881.51   \n",
            "42   19.5     4.095    5.655          15.990       15.795       767.91   \n",
            "38   18.2     9.100    5.642          17.472       16.016       905.99   \n",
            "\n",
            "    ins_losses abbrev  \n",
            "34      109.72     ND  \n",
            "40      116.29     SC  \n",
            "26       85.15     MT  \n",
            "43      156.83     TX  \n",
            "11      120.92     HI  \n",
            "18      194.78     LA  \n",
            "48      152.56     WV  \n",
            "41       96.87     SD  \n",
            "3       142.39     AR  \n",
            "36      178.86     OK  \n",
            "42      155.57     TN  \n",
            "38      153.86     PA  \n",
            "    total  speeding  alcohol  not_distracted  no_previous  ins_premium  \\\n",
            "34   23.9     5.497    5.771          23.661       20.554       688.75   \n",
            "40   23.9     9.082    5.771          22.944       19.359       858.97   \n",
            "26   21.4     8.346    5.771          17.976       18.190       816.21   \n",
            "43   19.4     7.760    5.771          17.654       16.878      1004.75   \n",
            "11   17.5     9.450    5.771          14.350       15.225       861.18   \n",
            "18   20.5     7.175    5.771          14.965       20.090      1281.55   \n",
            "48   23.8     8.092    5.771          23.086       20.706       992.61   \n",
            "41   19.4     6.014    5.771          19.012       16.684       669.31   \n",
            "3    22.4     4.032    5.771          21.056       21.280       827.34   \n",
            "36   19.9     6.368    5.771          18.308       18.706       881.51   \n",
            "42   19.5     4.095    5.655          15.990       15.795       767.91   \n",
            "\n",
            "    ins_losses abbrev  \n",
            "34      109.72     ND  \n",
            "40      116.29     SC  \n",
            "26       85.15     MT  \n",
            "43      156.83     TX  \n",
            "11      120.92     HI  \n",
            "18      194.78     LA  \n",
            "48      152.56     WV  \n",
            "41       96.87     SD  \n",
            "3       142.39     AR  \n",
            "36      178.86     OK  \n",
            "42      155.57     TN  \n",
            "최종결과물:  5.600099999999999\n"
          ]
        }
      ]
    },
    {
      "cell_type": "code",
      "source": [],
      "metadata": {
        "id": "Qe1Bn2IUg1rA"
      },
      "execution_count": null,
      "outputs": []
    }
  ]
}