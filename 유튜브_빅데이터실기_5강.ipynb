{
  "nbformat": 4,
  "nbformat_minor": 0,
  "metadata": {
    "colab": {
      "provenance": [],
      "authorship_tag": "ABX9TyM5WUHLCnXRJM4tbXtuohs9",
      "include_colab_link": true
    },
    "kernelspec": {
      "name": "python3",
      "display_name": "Python 3"
    },
    "language_info": {
      "name": "python"
    }
  },
  "cells": [
    {
      "cell_type": "markdown",
      "metadata": {
        "id": "view-in-github",
        "colab_type": "text"
      },
      "source": [
        "<a href=\"https://colab.research.google.com/github/kkang-cs/cloudtype-streamlit-example/blob/main/%EC%9C%A0%ED%8A%9C%EB%B8%8C_%EB%B9%85%EB%8D%B0%EC%9D%B4%ED%84%B0%EC%8B%A4%EA%B8%B0_5%EA%B0%95.ipynb\" target=\"_parent\"><img src=\"https://colab.research.google.com/assets/colab-badge.svg\" alt=\"Open In Colab\"/></a>"
      ]
    },
    {
      "cell_type": "code",
      "execution_count": 1,
      "metadata": {
        "colab": {
          "base_uri": "https://localhost:8080/"
        },
        "id": "sjBBLD4L2VKP",
        "outputId": "eb6768fe-dfe2-489f-cf00-c9047c95676e"
      },
      "outputs": [
        {
          "output_type": "stream",
          "name": "stdout",
          "text": [
            "            method  number  orbital_period   mass  distance  year\n",
            "0  Radial Velocity       1         269.300   7.10     77.40  2006\n",
            "1  Radial Velocity       1         874.774   2.21     56.95  2008\n",
            "2  Radial Velocity       1         763.000   2.60     19.84  2011\n",
            "3  Radial Velocity       1         326.030  19.40    110.62  2007\n",
            "4  Radial Velocity       1         516.220  10.50    119.47  2009\n"
          ]
        }
      ],
      "source": [
        "import seaborn as sns\n",
        "import pandas as pd\n",
        "import numpy as np\n",
        "df = sns.load_dataset('planets')\n",
        "print(df.head())"
      ]
    },
    {
      "cell_type": "code",
      "source": [
        "len7per = int(len(df)*0.7)\n",
        "df7per = df[:len7per]\n",
        "df2 = df.copy()\n",
        "df2['distance'] = df2['distance'].fillna(df2['distance'].median())\n",
        "print('전처리전', np.std(df['distance']))\n",
        "print('전처리후', np.std(df2['distance']))"
      ],
      "metadata": {
        "colab": {
          "base_uri": "https://localhost:8080/"
        },
        "id": "WWn_tqpW2WE7",
        "outputId": "87956358-f055-4952-83f7-d634a290438d"
      },
      "execution_count": 11,
      "outputs": [
        {
          "output_type": "stream",
          "name": "stdout",
          "text": [
            "전처리전 732.6626912919195\n",
            "전처리후 653.0918922742212\n"
          ]
        }
      ]
    }
  ]
}