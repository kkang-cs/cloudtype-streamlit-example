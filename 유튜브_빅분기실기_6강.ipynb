{
  "nbformat": 4,
  "nbformat_minor": 0,
  "metadata": {
    "colab": {
      "provenance": [],
      "authorship_tag": "ABX9TyMlvp1uw6zk0rBz58opnItZ",
      "include_colab_link": true
    },
    "kernelspec": {
      "name": "python3",
      "display_name": "Python 3"
    },
    "language_info": {
      "name": "python"
    }
  },
  "cells": [
    {
      "cell_type": "markdown",
      "metadata": {
        "id": "view-in-github",
        "colab_type": "text"
      },
      "source": [
        "<a href=\"https://colab.research.google.com/github/kkang-cs/cloudtype-streamlit-example/blob/main/%EC%9C%A0%ED%8A%9C%EB%B8%8C_%EB%B9%85%EB%B6%84%EA%B8%B0%EC%8B%A4%EA%B8%B0_6%EA%B0%95.ipynb\" target=\"_parent\"><img src=\"https://colab.research.google.com/assets/colab-badge.svg\" alt=\"Open In Colab\"/></a>"
      ]
    },
    {
      "cell_type": "code",
      "execution_count": 5,
      "metadata": {
        "colab": {
          "base_uri": "https://localhost:8080/"
        },
        "id": "-icSw8UhWSOE",
        "outputId": "61746533-99db-4600-c64b-eb87e5dbf0c6"
      },
      "outputs": [
        {
          "output_type": "stream",
          "name": "stdout",
          "text": [
            "            method  number  orbital_period   mass  distance  year\n",
            "0  Radial Velocity       1         269.300   7.10     77.40  2006\n",
            "1  Radial Velocity       1         874.774   2.21     56.95  2008\n",
            "2  Radial Velocity       1         763.000   2.60     19.84  2011\n",
            "3  Radial Velocity       1         326.030  19.40    110.62  2007\n",
            "4  Radial Velocity       1         516.220  10.50    119.47  2009\n"
          ]
        }
      ],
      "source": [
        "import seaborn as sns\n",
        "sns.get_dataset_names()\n",
        "df = sns.load_dataset('planets')\n",
        "print (df.head())"
      ]
    },
    {
      "cell_type": "code",
      "source": [
        "Q25 = df['orbital_period'].quantile(0.25)\n",
        "Q75 = df['orbital_period'].quantile(0.75)\n",
        "IQR = Q75-Q25\n",
        "min = Q25 - IQR*1.5\n",
        "max = Q75 + IQR*1.5"
      ],
      "metadata": {
        "id": "r1GCW5G3WnWj"
      },
      "execution_count": 14,
      "outputs": []
    },
    {
      "cell_type": "code",
      "source": [
        "# print (IQR)\n",
        "# print (min)\n",
        "# print (max)"
      ],
      "metadata": {
        "colab": {
          "base_uri": "https://localhost:8080/"
        },
        "id": "9nSOX3ClYWsb",
        "outputId": "2521121c-34e7-4e37-af11-6d7245843e85"
      },
      "execution_count": 16,
      "outputs": [
        {
          "output_type": "stream",
          "name": "stdout",
          "text": [
            "520.5624595\n",
            "-775.4011487500002\n",
            "1306.84868925\n"
          ]
        }
      ]
    },
    {
      "cell_type": "code",
      "source": [
        "df_outliner = df[(df['orbital_period']<=min) | (df['orbital_period']>=max)]\n",
        "print(df_outliner['orbital_period'].sum())"
      ],
      "metadata": {
        "colab": {
          "base_uri": "https://localhost:8080/"
        },
        "id": "dyqOjMr_YlRx",
        "outputId": "06aafa70-0e14-4cbe-e247-67412e379b45"
      },
      "execution_count": 18,
      "outputs": [
        {
          "output_type": "stream",
          "name": "stdout",
          "text": [
            "1818772.582\n"
          ]
        }
      ]
    }
  ]
}